{
 "cells": [
  {
   "cell_type": "markdown",
   "metadata": {},
   "source": [
    "# MAE 306 PSET 3"
   ]
  },
  {
   "cell_type": "markdown",
   "metadata": {},
   "source": [
    "## Jacobi Method"
   ]
  },
  {
   "cell_type": "code",
   "execution_count": 1,
   "metadata": {},
   "outputs": [],
   "source": [
    "import numpy as np\n",
    "import matplotlib.pyplot as plt"
   ]
  },
  {
   "cell_type": "code",
   "execution_count": 2,
   "metadata": {},
   "outputs": [],
   "source": [
    "A_1 = np.array([[4, -1, 0], [-1, 4, -1],[0, -1, 4]])\n",
    "A_2 = np.array([[-1, 0, 0], [0, -1, 0],[0, 0, -1]])\n",
    "A_3 = np.array([[0, 0, 0], [0, 0, 0],[0, 0, 0]])"
   ]
  },
  {
   "cell_type": "code",
   "execution_count": 3,
   "metadata": {},
   "outputs": [],
   "source": [
    "A_r1 = np.hstack((A_1,A_2,A_3))\n",
    "A_r2 = np.hstack((A_2,A_1,A_2))\n",
    "A_r3 = np.hstack((A_3,A_2,A_1))"
   ]
  },
  {
   "cell_type": "code",
   "execution_count": 4,
   "metadata": {},
   "outputs": [],
   "source": [
    "A = np.vstack((A_r1,A_r2,A_r3))"
   ]
  },
  {
   "cell_type": "code",
   "execution_count": 5,
   "metadata": {},
   "outputs": [],
   "source": [
    "b = np.array([[1],[1],[1],[1],[1],[1],[1],[1],[1]])"
   ]
  },
  {
   "cell_type": "code",
   "execution_count": 6,
   "metadata": {},
   "outputs": [],
   "source": [
    "D = np.diag(np.diag(A))\n",
    "D_inv = np.linalg.inv(D)"
   ]
  },
  {
   "cell_type": "code",
   "execution_count": 7,
   "metadata": {},
   "outputs": [],
   "source": [
    "L = np.tril(A)-D"
   ]
  },
  {
   "cell_type": "code",
   "execution_count": 8,
   "metadata": {},
   "outputs": [],
   "source": [
    "U = np.triu(A)-D"
   ]
  },
  {
   "cell_type": "code",
   "execution_count": 10,
   "metadata": {},
   "outputs": [
    {
     "name": "stdout",
     "output_type": "stream",
     "text": [
      "[[0.68707275]\n",
      " [0.87438965]\n",
      " [0.68707275]\n",
      " [0.87438965]\n",
      " [1.12414551]\n",
      " [0.87438965]\n",
      " [0.68707275]\n",
      " [0.87438965]\n",
      " [0.68707275]]\n",
      "21\n"
     ]
    }
   ],
   "source": [
    "x_i = np.array([[0],[0],[0],[0],[0],[0],[0],[0],[0]])\n",
    "diff = 1\n",
    "count = 0\n",
    "\n",
    "while abs(diff)>0.001:\n",
    "    r_1 = np.dot(A,x_i)-b\n",
    "    x_n1 = -np.dot(np.dot(D_inv,(L+U)),x_i)+np.dot(D_inv,b)\n",
    "    r_n1 = np.dot(A,x_n1)-b\n",
    "    diff = np.linalg.norm(r_n1 - r_1)\n",
    "    x_i = x_n1\n",
    "    count += 1\n",
    "    \n",
    "print(x_i)\n",
    "print(count)"
   ]
  },
  {
   "cell_type": "markdown",
   "metadata": {},
   "source": [
    "## Steepest descent method"
   ]
  },
  {
   "cell_type": "code",
   "execution_count": 48,
   "metadata": {},
   "outputs": [
    {
     "name": "stdout",
     "output_type": "stream",
     "text": [
      "[[0.6796875]\n",
      " [0.859375 ]\n",
      " [0.6796875]\n",
      " [0.859375 ]\n",
      " [1.109375 ]\n",
      " [0.859375 ]\n",
      " [0.6796875]\n",
      " [0.859375 ]\n",
      " [0.6796875]]\n",
      "7\n"
     ]
    }
   ],
   "source": [
    "x_i = np.array([[0],[0],[0],[0],[0],[0],[0],[0],[0]])\n",
    "diff = np.linalg.norm(np.array([[1],[1],[1],[1],[1],[1],[1],[1],[1]]))\n",
    "F_current = (1/2)*(np.dot(np.dot(np.transpose(x_i), A), x_i))-(np.dot(np.transpose(b), x_i))\n",
    "\n",
    "count = 0\n",
    "while abs(diff) > 0.001:\n",
    "    r = b - np.dot(A,x_i)\n",
    "    a = (np.dot(np.transpose(r),r))/(np.dot(np.dot(np.transpose(r),A),r))\n",
    "    x_i1 = x_i + a*r\n",
    "    F = (1/2)*(np.dot(np.dot(np.transpose(x_i1), A), x_i1))-(np.dot(np.transpose(b), x_i1))\n",
    "    diff = F - F_current\n",
    "    x_i = x_i1\n",
    "    F_current = F\n",
    "    count += 1\n",
    "print(x_i)\n",
    "print(count)"
   ]
  },
  {
   "cell_type": "code",
   "execution_count": 11,
   "metadata": {},
   "outputs": [
    {
     "name": "stdout",
     "output_type": "stream",
     "text": [
      "[[0.68743896]\n",
      " [0.87487793]\n",
      " [0.68743896]\n",
      " [0.87487793]\n",
      " [1.12487793]\n",
      " [0.87487793]\n",
      " [0.68743896]\n",
      " [0.87487793]\n",
      " [0.68743896]]\n",
      "21\n"
     ]
    }
   ],
   "source": [
    "x_i = np.array([[0],[0],[0],[0],[0],[0],[0],[0],[0]])\n",
    "diff = 1\n",
    "\n",
    "count = 0\n",
    "while abs(diff) > 0.001:\n",
    "    r = b - np.dot(A,x_i)\n",
    "    x1 = np.dot(A,x_i) - b\n",
    "    a = (np.dot(np.transpose(r),r))/(np.dot(np.dot(np.transpose(r),A),r))\n",
    "    x_i1 = x_i + a*r\n",
    "    x2 = np.dot(A,x_i1) - b\n",
    "    diff = np.linalg.norm(x1 - x2)\n",
    "    x_i = x_i1\n",
    "    x1 = x2\n",
    "    count += 1\n",
    "print(x_i)\n",
    "print(count)"
   ]
  },
  {
   "cell_type": "markdown",
   "metadata": {},
   "source": [
    "## Conjugate Gradient Method"
   ]
  },
  {
   "cell_type": "code",
   "execution_count": 70,
   "metadata": {},
   "outputs": [
    {
     "name": "stdout",
     "output_type": "stream",
     "text": [
      "[[0.6875]\n",
      " [0.875 ]\n",
      " [0.6875]\n",
      " [0.875 ]\n",
      " [1.125 ]\n",
      " [0.875 ]\n",
      " [0.6875]\n",
      " [0.875 ]\n",
      " [0.6875]]\n",
      "4\n"
     ]
    }
   ],
   "source": [
    "x_i = np.array([[0],[0],[0],[0],[0],[0],[0],[0],[0]])\n",
    "r = b - np.dot(A,x_i)\n",
    "d = r\n",
    "diff = np.linalg.norm(np.array([[1],[1],[1],[1],[1],[1],[1],[1],[1]]))\n",
    "count = 0\n",
    "\n",
    "while abs(diff) > 0.001:\n",
    "    r = b - np.dot(A,x_i)\n",
    "    a_i = np.dot(np.transpose(r),r)/np.dot(np.dot(np.transpose(d),A),d)\n",
    "    x_i1 = x_i + a_i*d\n",
    "    r_i1 = r - a_i*np.dot(A,d)\n",
    "    B = np.dot(np.transpose(r_i1),r_i1)/np.dot(np.transpose(r),r)\n",
    "    d_i1 = r_i1 + B*d\n",
    "    diff_1 = b - np.dot(A,x_i)\n",
    "    diff_2 = b - np.dot(A,x_i1)\n",
    "    diff = np.linalg.norm(diff_1 - diff_2)\n",
    "    x_i = x_i1\n",
    "    r = r_i1\n",
    "    d = d_i1\n",
    "    count += 1\n",
    "    \n",
    "print(x_i)\n",
    "print(count)"
   ]
  },
  {
   "cell_type": "code",
   "execution_count": 56,
   "metadata": {},
   "outputs": [],
   "source": []
  },
  {
   "cell_type": "code",
   "execution_count": null,
   "metadata": {},
   "outputs": [],
   "source": []
  }
 ],
 "metadata": {
  "kernelspec": {
   "display_name": "Python 3",
   "language": "python",
   "name": "python3"
  },
  "language_info": {
   "codemirror_mode": {
    "name": "ipython",
    "version": 3
   },
   "file_extension": ".py",
   "mimetype": "text/x-python",
   "name": "python",
   "nbconvert_exporter": "python",
   "pygments_lexer": "ipython3",
   "version": "3.7.6"
  }
 },
 "nbformat": 4,
 "nbformat_minor": 4
}
