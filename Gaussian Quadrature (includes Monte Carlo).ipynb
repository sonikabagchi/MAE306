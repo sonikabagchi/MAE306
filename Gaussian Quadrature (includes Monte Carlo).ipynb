{
 "cells": [
  {
   "cell_type": "markdown",
   "metadata": {},
   "source": [
    "## MAE306 PSET 7"
   ]
  },
  {
   "cell_type": "code",
   "execution_count": 6,
   "metadata": {},
   "outputs": [],
   "source": [
    "import numpy as np\n",
    "import mat\n",
    "import random"
   ]
  },
  {
   "cell_type": "code",
   "execution_count": 7,
   "metadata": {},
   "outputs": [],
   "source": [
    "def f(x):\n",
    "    f = np.pi*(x ** 2 * np.exp(2*x)*np.cos(np.pi*x/2))**2\n",
    "    return f"
   ]
  },
  {
   "cell_type": "code",
   "execution_count": null,
   "metadata": {},
   "outputs": [],
   "source": []
  },
  {
   "cell_type": "markdown",
   "metadata": {},
   "source": [
    "## Trapezoidal method"
   ]
  },
  {
   "cell_type": "code",
   "execution_count": 285,
   "metadata": {},
   "outputs": [
    {
     "name": "stdout",
     "output_type": "stream",
     "text": [
      "1.0058690853439205\n",
      "100.0\n"
     ]
    }
   ],
   "source": [
    "x = 0\n",
    "dx = 0.01\n",
    "N = 1/dx\n",
    "\n",
    "F = f(0)*dx/2\n",
    "\n",
    "while x < 1-dx:\n",
    "    F += f(x + dx)*dx\n",
    "    x += dx\n",
    "\n",
    "F += f(1)*dx/2\n",
    "print(F)\n",
    "print(N)"
   ]
  },
  {
   "cell_type": "markdown",
   "metadata": {},
   "source": [
    "## Simpson's rule"
   ]
  },
  {
   "cell_type": "code",
   "execution_count": 281,
   "metadata": {},
   "outputs": [
    {
     "name": "stdout",
     "output_type": "stream",
     "text": [
      "1.005869236161246\n",
      "333.3333333333333\n"
     ]
    }
   ],
   "source": [
    "x = 0\n",
    "dx = 0.003\n",
    "N = 1/dx\n",
    "k = 1\n",
    "F = 0\n",
    "\n",
    "while 2*k + 1 < N:\n",
    "    F += f(x + (2*k-1)*dx) + 4*f(x + (2*k)*dx) + f(x + (2*k+1)*dx)\n",
    "    k += 1\n",
    "\n",
    "F_final = dx/3 * F\n",
    "print(F_final)\n",
    "print(N)\n"
   ]
  },
  {
   "cell_type": "code",
   "execution_count": 275,
   "metadata": {},
   "outputs": [
    {
     "name": "stdout",
     "output_type": "stream",
     "text": [
      "1.0058692272653318\n",
      "4\n",
      "0.25\n"
     ]
    }
   ],
   "source": [
    "x = 0\n",
    "N = 4\n",
    "k = 1\n",
    "F = f(0)*dx/2\n",
    "F_desired = 1.00587\n",
    "dx = 1/N\n",
    "a = F - F_desired\n",
    "\n",
    "while a > 0.001:\n",
    "    while 2*k + 1 < N:\n",
    "        F += dx/3 * f(x + (2*k-1)*dx) + 4*f(x + (2*k)*dx) + f(x + (2*k+1)*dx)\n",
    "        k += 1\n",
    "        i += 1\n",
    "    F_final = dx/3 * F\n",
    "    a = F_final - F_desired\n",
    "    N += 1\n",
    "\n",
    "print(F_final)\n",
    "print(N)\n",
    "print(dx)"
   ]
  },
  {
   "cell_type": "code",
   "execution_count": 271,
   "metadata": {},
   "outputs": [
    {
     "name": "stdout",
     "output_type": "stream",
     "text": [
      "2514.8410625091055\n",
      "1000.0\n"
     ]
    }
   ],
   "source": []
  },
  {
   "cell_type": "markdown",
   "metadata": {},
   "source": [
    "## Monte Carlo Method"
   ]
  },
  {
   "cell_type": "code",
   "execution_count": 286,
   "metadata": {},
   "outputs": [
    {
     "data": {
      "text/plain": [
       "0.7037484667454734"
      ]
     },
     "execution_count": 286,
     "metadata": {},
     "output_type": "execute_result"
    }
   ],
   "source": [
    "random.random() #for generating random numbers"
   ]
  },
  {
   "cell_type": "code",
   "execution_count": 287,
   "metadata": {},
   "outputs": [
    {
     "name": "stdout",
     "output_type": "stream",
     "text": [
      "2.0\n",
      "10\n",
      "5\n"
     ]
    }
   ],
   "source": [
    "N = 0\n",
    "N_success = 0\n",
    "\n",
    "while N < 10:\n",
    "    x = random.random()\n",
    "    y = 4*random.random()\n",
    "    if y < f(x):\n",
    "        N_success += 1\n",
    "    N += 1\n",
    "I = 4*(N_success/N)\n",
    "print(I)\n",
    "print(N)\n",
    "print(N_success)"
   ]
  },
  {
   "cell_type": "code",
   "execution_count": 2,
   "metadata": {},
   "outputs": [
    {
     "name": "stdout",
     "output_type": "stream",
     "text": [
      "0.9883285116366926\n",
      "0.31622776601683794\n"
     ]
    }
   ],
   "source": [
    "print((2.0 - 1.00587)/1.00587)\n",
    "y1 = (2.0 - 1.00587)/1.00587\n",
    "print(1/(10**0.5))"
   ]
  },
  {
   "cell_type": "code",
   "execution_count": 295,
   "metadata": {},
   "outputs": [
    {
     "name": "stdout",
     "output_type": "stream",
     "text": [
      "1.04\n"
     ]
    }
   ],
   "source": [
    "N = 0\n",
    "N_success = 0\n",
    "\n",
    "while N < 10**2:\n",
    "    x = random.random()\n",
    "    y = 4*random.random()\n",
    "    if y < f(x):\n",
    "        N_success += 1\n",
    "    N += 1\n",
    "I = 4*(N_success/N)\n",
    "print(I)"
   ]
  },
  {
   "cell_type": "code",
   "execution_count": 8,
   "metadata": {},
   "outputs": [
    {
     "name": "stdout",
     "output_type": "stream",
     "text": [
      "0.8807002893017984\n",
      "0.1\n"
     ]
    }
   ],
   "source": [
    "print(np.abs((0.12 - 1.00587)/1.00587))\n",
    "y2 = np.abs((0.12 - 1.00587)/1.00587)\n",
    "print(1/(100**0.5))"
   ]
  },
  {
   "cell_type": "code",
   "execution_count": 77,
   "metadata": {},
   "outputs": [
    {
     "name": "stdout",
     "output_type": "stream",
     "text": [
      "1.08\n"
     ]
    }
   ],
   "source": [
    "N = 0\n",
    "N_success = 0\n",
    "\n",
    "while N < 10**3:\n",
    "    x = random.random()\n",
    "    y = 4*random.random()\n",
    "    if y < f(x):\n",
    "        N_success += 1\n",
    "    N += 1\n",
    "I = 4*(N_success/N)\n",
    "print(I)"
   ]
  },
  {
   "cell_type": "code",
   "execution_count": 9,
   "metadata": {},
   "outputs": [
    {
     "name": "stdout",
     "output_type": "stream",
     "text": [
      "0.07369739628381404\n",
      "0.03162277660168379\n"
     ]
    }
   ],
   "source": [
    "print((1.08 - 1.00587)/1.00587)\n",
    "y3 = (1.08 - 1.00587)/1.00587\n",
    "print(1/(10**1.5))"
   ]
  },
  {
   "cell_type": "code",
   "execution_count": 78,
   "metadata": {},
   "outputs": [
    {
     "name": "stdout",
     "output_type": "stream",
     "text": [
      "1.024\n"
     ]
    }
   ],
   "source": [
    "N = 0\n",
    "N_success = 0\n",
    "\n",
    "while N < 10**4:\n",
    "    x = random.random()\n",
    "    y = 4*random.random()\n",
    "    if y < f(x):\n",
    "        N_success += 1\n",
    "    N += 1\n",
    "I = 4*(N_success/N)\n",
    "print(I)"
   ]
  },
  {
   "cell_type": "code",
   "execution_count": 10,
   "metadata": {},
   "outputs": [
    {
     "name": "stdout",
     "output_type": "stream",
     "text": [
      "0.0180241979579866\n",
      "0.01\n"
     ]
    }
   ],
   "source": [
    "print((1.024 - 1.00587)/1.00587)\n",
    "y4 = (1.024 - 1.00587)/1.00587\n",
    "print(1/(10**2))"
   ]
  },
  {
   "cell_type": "code",
   "execution_count": 79,
   "metadata": {},
   "outputs": [
    {
     "name": "stdout",
     "output_type": "stream",
     "text": [
      "1.00932\n"
     ]
    }
   ],
   "source": [
    "N = 0\n",
    "N_success = 0\n",
    "\n",
    "while N < 10**5:\n",
    "    x = random.random()\n",
    "    y = 4*random.random()\n",
    "    if y < f(x):\n",
    "        N_success += 1\n",
    "    N += 1\n",
    "I = 4*(N_success/N)\n",
    "print(I)"
   ]
  },
  {
   "cell_type": "code",
   "execution_count": 11,
   "metadata": {},
   "outputs": [
    {
     "name": "stdout",
     "output_type": "stream",
     "text": [
      "0.003429866682573248\n",
      "0.003162277660168379\n"
     ]
    }
   ],
   "source": [
    "print((1.00932 - 1.00587)/1.00587)\n",
    "y5 = (1.00932 - 1.00587)/1.00587\n",
    "print(1/(10**2.5))"
   ]
  },
  {
   "cell_type": "code",
   "execution_count": 24,
   "metadata": {},
   "outputs": [
    {
     "name": "stdout",
     "output_type": "stream",
     "text": [
      "1.005532\n"
     ]
    }
   ],
   "source": [
    "N = 0\n",
    "N_success = 0\n",
    "\n",
    "while N < 10**6:\n",
    "    x = random.random()\n",
    "    y = 4*random.random()\n",
    "    if y < f(x):\n",
    "        N_success += 1\n",
    "    N += 1\n",
    "I = 4*(N_success/N)\n",
    "print(I)"
   ]
  },
  {
   "cell_type": "code",
   "execution_count": 25,
   "metadata": {},
   "outputs": [
    {
     "name": "stdout",
     "output_type": "stream",
     "text": [
      "-0.0003360275184665508\n",
      "0.001\n"
     ]
    }
   ],
   "source": [
    "print((1.005532 - 1.00587)/1.00587)\n",
    "y6 = (1.005532 - 1.00587)/1.00587\n",
    "print(1/(10**3))"
   ]
  },
  {
   "cell_type": "code",
   "execution_count": 26,
   "metadata": {},
   "outputs": [
    {
     "name": "stderr",
     "output_type": "stream",
     "text": [
      "/opt/anaconda3/lib/python3.7/site-packages/ipykernel_launcher.py:3: RuntimeWarning: invalid value encountered in log\n",
      "  This is separate from the ipykernel package so we can avoid doing imports until\n"
     ]
    },
    {
     "data": {
      "text/plain": [
       "[<matplotlib.lines.Line2D at 0x11fd6dc90>]"
      ]
     },
     "execution_count": 26,
     "metadata": {},
     "output_type": "execute_result"
    },
    {
     "data": {
      "image/png": "[encoded data removed]",
      "text/plain": [
       "<Figure size 432x288 with 1 Axes>"
      ]
     },
     "metadata": {
      "needs_background": "light"
     },
     "output_type": "display_data"
    }
   ],
   "source": [
    "error = [y1,y2,y3,y4,y5,y6]\n",
    "N = [10,10**2,10**3,10**4,10**5,10**6]\n",
    "plt.plot(np.log(N),np.log(error))"
   ]
  },
  {
   "cell_type": "markdown",
   "metadata": {},
   "source": [
    "# Gaussian Quadrature"
   ]
  },
  {
   "cell_type": "code",
   "execution_count": 301,
   "metadata": {},
   "outputs": [],
   "source": [
    "w_i = [0.3607615730481386,0.3607615730481386,0.4679139345726910,0.4679139345726910,0.1713244923791704,0.1713244923791704]\n",
    "x_i = [0.6612093864662645,-0.6612093864662645,-0.2386191860831969,0.2386191860831969,-0.9324695142031521,0.9324695142031521]"
   ]
  },
  {
   "cell_type": "code",
   "execution_count": 302,
   "metadata": {},
   "outputs": [],
   "source": [
    "def f(x):\n",
    "    f = (x**2.25)*np.exp(-2*x)\n",
    "    return f"
   ]
  },
  {
   "cell_type": "code",
   "execution_count": 303,
   "metadata": {},
   "outputs": [
    {
     "name": "stdout",
     "output_type": "stream",
     "text": [
      "0.26302607164546093\n"
     ]
    }
   ],
   "source": [
    "F = 0\n",
    "i = 0\n",
    "while i < 6:\n",
    "    F += np.multiply(f(2*x_i[i]+2),2*w_i[i])\n",
    "    i += 1\n",
    "\n",
    "print(F)"
   ]
  },
  {
   "cell_type": "code",
   "execution_count": 304,
   "metadata": {},
   "outputs": [],
   "source": [
    "def g(x):\n",
    "    g = 1/2 + (((1 - x**2)/(4*x))*np.log(np.abs((1 + x)/(1 - x))))\n",
    "    return g"
   ]
  },
  {
   "cell_type": "code",
   "execution_count": 305,
   "metadata": {},
   "outputs": [
    {
     "data": {
      "text/plain": [
       "0.03790187962670316"
      ]
     },
     "execution_count": 305,
     "metadata": {},
     "output_type": "execute_result"
    }
   ],
   "source": [
    "g(3)"
   ]
  },
  {
   "cell_type": "code",
   "execution_count": 306,
   "metadata": {},
   "outputs": [],
   "source": [
    "w_1 = [2]\n",
    "x_1 = [0]"
   ]
  },
  {
   "cell_type": "code",
   "execution_count": 307,
   "metadata": {},
   "outputs": [
    {
     "name": "stdout",
     "output_type": "stream",
     "text": [
      "0.4941013047286873\n"
     ]
    }
   ],
   "source": [
    "G = 0\n",
    "i = 0\n",
    "while i < 1:\n",
    "    G += np.multiply(g(1.5*x_1[i]+1.5),(1.5*w_1[i]))\n",
    "    i += 1\n",
    "    \n",
    "print(G)"
   ]
  },
  {
   "cell_type": "code",
   "execution_count": 308,
   "metadata": {},
   "outputs": [],
   "source": [
    "w_2 = [1.0000000000000000,1.0000000000000000]\n",
    "x_2 = [-0.5773502691896257,0.5773502691896257]"
   ]
  },
  {
   "cell_type": "code",
   "execution_count": 309,
   "metadata": {},
   "outputs": [
    {
     "name": "stdout",
     "output_type": "stream",
     "text": [
      "1.3720368520081112\n"
     ]
    }
   ],
   "source": [
    "G = 0\n",
    "i = 0\n",
    "while i < 2:\n",
    "    G += g(1.5*x_2[i]+1.5)*(1.5*w_2[i])\n",
    "    i += 1\n",
    "    \n",
    "print(G)"
   ]
  },
  {
   "cell_type": "code",
   "execution_count": 310,
   "metadata": {},
   "outputs": [],
   "source": [
    "w_3 = [0.8888888888888888,0.5555555555555556,0.5555555555555556]\n",
    "x_3 = [0.0000000000000000,-0.7745966692414834,0.7745966692414834]"
   ]
  },
  {
   "cell_type": "code",
   "execution_count": 311,
   "metadata": {},
   "outputs": [
    {
     "name": "stdout",
     "output_type": "stream",
     "text": [
      "1.0607976491752724\n"
     ]
    }
   ],
   "source": [
    "G = 0\n",
    "i = 0\n",
    "while i < 3:\n",
    "    G += g((1.5*x_3[i])+1.5)*(1.5*w_3[i])\n",
    "    i += 1\n",
    "    \n",
    "print(G)"
   ]
  },
  {
   "cell_type": "code",
   "execution_count": 205,
   "metadata": {},
   "outputs": [],
   "source": [
    "w_4 = [0.6521451548625461,0.6521451548625461,0.3478548451374538,0.3478548451374538]\n",
    "x_4 = [-0.3399810435848563,0.3399810435848563,-0.8611363115940526,0.8611363115940526]"
   ]
  },
  {
   "cell_type": "code",
   "execution_count": 206,
   "metadata": {},
   "outputs": [
    {
     "name": "stdout",
     "output_type": "stream",
     "text": [
      "1.13736214841826\n"
     ]
    }
   ],
   "source": [
    "G = 0\n",
    "i = 0\n",
    "while i < 4:\n",
    "    G += g(1.5*x_4[i]+1.5)*(1.5*w_4[i])\n",
    "    i += 1\n",
    "    \n",
    "print(G)"
   ]
  },
  {
   "cell_type": "code",
   "execution_count": null,
   "metadata": {},
   "outputs": [],
   "source": []
  }
 ],
 "metadata": {
  "kernelspec": {
   "display_name": "Python 3",
   "language": "python",
   "name": "python3"
  },
  "language_info": {
   "codemirror_mode": {
    "name": "ipython",
    "version": 3
   },
   "file_extension": ".py",
   "mimetype": "text/x-python",
   "name": "python",
   "nbconvert_exporter": "python",
   "pygments_lexer": "ipython3",
   "version": "3.7.6"
  }
 },
 "nbformat": 4,
 "nbformat_minor": 4
}
