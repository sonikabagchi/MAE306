{
 "cells": [
  {
   "cell_type": "markdown",
   "metadata": {},
   "source": [
    "# Problem 2"
   ]
  },
  {
   "cell_type": "code",
   "execution_count": 1,
   "metadata": {},
   "outputs": [],
   "source": [
    "import numpy as np\n",
    "import matplotlib.pyplot as plt"
   ]
  },
  {
   "cell_type": "code",
   "execution_count": 122,
   "metadata": {},
   "outputs": [
    {
     "name": "stdout",
     "output_type": "stream",
     "text": [
      "[ 0.00000000e+00  2.00000000e-01 -0.00000000e+00 -1.42857143e-02\n",
      "  0.00000000e+00  3.96825397e-04 -0.00000000e+00 -6.01250601e-06\n",
      "  0.00000000e+00  5.78125578e-08 -0.00000000e+00 -3.85417052e-10\n",
      "  0.00000000e+00  1.88929927e-12 -0.00000000e+00 -7.10262885e-15\n",
      "  0.00000000e+00  0.00000000e+00]\n"
     ]
    }
   ],
   "source": [
    "n = 17\n",
    "\n",
    "a_1 = np.zeros(n + 1)\n",
    "a_1[0] = 0\n",
    "a_1[1] = 1/5\n",
    "\n",
    "i = 2\n",
    "while i in range(1, n):\n",
    "    a_1[i] = -1*(a_1[i-2])/((i + 4)*(i - 1))\n",
    "    i += 1\n",
    "\n",
    "print(a_1)"
   ]
  },
  {
   "cell_type": "code",
   "execution_count": 123,
   "metadata": {},
   "outputs": [
    {
     "name": "stdout",
     "output_type": "stream",
     "text": [
      "[ 0.00000000e+00  2.00000000e-01 -0.00000000e+00 -1.42857143e-02\n",
      "  0.00000000e+00  3.96825397e-04 -0.00000000e+00 -6.01250601e-06\n",
      "  0.00000000e+00  5.78125578e-08 -0.00000000e+00 -3.85417052e-10\n",
      "  0.00000000e+00  1.88929927e-12 -0.00000000e+00 -7.10262885e-15\n",
      "  0.00000000e+00  2.11387763e-17 -0.00000000e+00 -5.10598463e-20\n",
      "  0.00000000e+00  0.00000000e+00]\n"
     ]
    }
   ],
   "source": [
    "n = 21\n",
    "\n",
    "a_2 = np.zeros(n + 1)\n",
    "a_2[0] = 0\n",
    "a_2[1] = 1/5\n",
    "\n",
    "i = 2\n",
    "while i in range(1, n):\n",
    "    a_2[i] = -1*(a_2[i-2])/((i + 4)*(i - 1))\n",
    "    i += 1\n",
    "\n",
    "print(a_2)"
   ]
  },
  {
   "cell_type": "code",
   "execution_count": 124,
   "metadata": {},
   "outputs": [
    {
     "name": "stdout",
     "output_type": "stream",
     "text": [
      "[ 0.00000000e+00  2.00000000e-01 -0.00000000e+00 -1.42857143e-02\n",
      "  0.00000000e+00  3.96825397e-04 -0.00000000e+00 -6.01250601e-06\n",
      "  0.00000000e+00  5.78125578e-08 -0.00000000e+00 -3.85417052e-10\n",
      "  0.00000000e+00  1.88929927e-12 -0.00000000e+00 -7.10262885e-15\n",
      "  0.00000000e+00  2.11387763e-17 -0.00000000e+00 -5.10598463e-20\n",
      "  0.00000000e+00  1.02119693e-22 -0.00000000e+00 -1.71918674e-25\n",
      "  0.00000000e+00  0.00000000e+00]\n"
     ]
    }
   ],
   "source": [
    "n = 25\n",
    "\n",
    "a = np.zeros(n + 1)\n",
    "a[0] = 0\n",
    "a[1] = 1/5\n",
    "\n",
    "i = 2\n",
    "while i in range(1, n):\n",
    "    a[i] = -1*(a[i-2])/((i + 4)*(i - 1))\n",
    "    i += 1\n",
    "\n",
    "print(a)"
   ]
  },
  {
   "cell_type": "code",
   "execution_count": 125,
   "metadata": {},
   "outputs": [],
   "source": [
    "def y(x, a):\n",
    "    y = 0\n",
    "    i = 0\n",
    "    while (i < len(a)):\n",
    "        y += a[i] * x ** i\n",
    "        i += 1\n",
    "    return y"
   ]
  },
  {
   "cell_type": "code",
   "execution_count": 126,
   "metadata": {},
   "outputs": [],
   "source": [
    "x = np.linspace(0, 10, 100)\n",
    "y_25_values = y(x, a)\n",
    "\n",
    "y_17_values = y(x, a_1)\n",
    "\n",
    "y_21_values = y(x, a_2)"
   ]
  },
  {
   "cell_type": "code",
   "execution_count": 129,
   "metadata": {},
   "outputs": [
    {
     "data": {
      "text/plain": [
       "<matplotlib.legend.Legend at 0x120a06a10>"
      ]
     },
     "execution_count": 129,
     "metadata": {},
     "output_type": "execute_result"
    },
    {
     "data": {
      "image/png": "[encoded data removed]",
      "text/plain": [
       "<Figure size 432x288 with 1 Axes>"
      ]
     },
     "metadata": {
      "needs_background": "light"
     },
     "output_type": "display_data"
    }
   ],
   "source": [
    "plt.plot(x, y_17_values, label = \"n = 17\")\n",
    "plt.plot(x, y_21_values, label = \"n = 21\")\n",
    "plt.plot(x, y_25_values, label = \"n = 25\")\n",
    "plt.ylim(-0.5,0.5)\n",
    "plt.legend()"
   ]
  },
  {
   "cell_type": "code",
   "execution_count": 62,
   "metadata": {},
   "outputs": [
    {
     "data": {
      "text/plain": [
       "[<matplotlib.lines.Line2D at 0x1204b7b90>]"
      ]
     },
     "execution_count": 62,
     "metadata": {},
     "output_type": "execute_result"
    },
    {
     "data": {
      "image/png": "[encoded data removed]",
      "text/plain": [
       "<Figure size 432x288 with 1 Axes>"
      ]
     },
     "metadata": {
      "needs_background": "light"
     },
     "output_type": "display_data"
    }
   ],
   "source": [
    "plt.plot(x, y_25_values)\n",
    "axis = np.zeros(100)\n",
    "plt.plot(x, axis)"
   ]
  },
  {
   "cell_type": "code",
   "execution_count": 63,
   "metadata": {},
   "outputs": [
    {
     "name": "stdout",
     "output_type": "stream",
     "text": [
      "[ 0.00000000e+00  2.00000000e-01 -0.00000000e+00 -1.42857143e-02\n",
      "  0.00000000e+00  3.96825397e-04 -0.00000000e+00 -6.01250601e-06\n",
      "  0.00000000e+00  5.78125578e-08 -0.00000000e+00 -3.85417052e-10\n",
      "  0.00000000e+00  1.88929927e-12 -0.00000000e+00 -7.10262885e-15\n",
      "  0.00000000e+00  2.11387763e-17 -0.00000000e+00 -5.10598463e-20\n",
      "  0.00000000e+00  1.02119693e-22 -0.00000000e+00 -1.71918674e-25\n",
      "  0.00000000e+00  0.00000000e+00]\n"
     ]
    }
   ],
   "source": [
    "n = 25\n",
    "\n",
    "a = np.zeros(n + 1)\n",
    "a[0] = 0\n",
    "a[1] = 1/5\n",
    "\n",
    "i = 2\n",
    "while i in range(1, n):\n",
    "    a[i] = -1*(a[i-2])/((i + 4)*(i - 1))\n",
    "    i += 1\n",
    "\n",
    "print(a)"
   ]
  },
  {
   "cell_type": "code",
   "execution_count": 83,
   "metadata": {},
   "outputs": [],
   "source": [
    "def y(x, a):\n",
    "    y_val = 0\n",
    "    i = 0\n",
    "    while (i < len(a)):\n",
    "        y_val += a[i] * x ** i\n",
    "        i += 1\n",
    "    return y_val"
   ]
  },
  {
   "cell_type": "code",
   "execution_count": 84,
   "metadata": {},
   "outputs": [],
   "source": [
    "def y_p(x, a):\n",
    "    y_p = 0\n",
    "    i = 1\n",
    "    while (i < len(a)):\n",
    "        y_p += a[i] * i * x ** (i-1)\n",
    "        i += 1\n",
    "    return y_p"
   ]
  },
  {
   "cell_type": "code",
   "execution_count": 115,
   "metadata": {},
   "outputs": [
    {
     "name": "stdout",
     "output_type": "stream",
     "text": [
      "5.763459168265558\n",
      "4\n"
     ]
    }
   ],
   "source": [
    "x = 4\n",
    "diff = 1\n",
    "counter=0\n",
    "while (abs(diff) > 0.0001):\n",
    "    x_n = x - (y(x, a)/y_p(x, a))\n",
    "    diff = x - x_n\n",
    "    x = x_n\n",
    "    counter += 1\n",
    "print(x)\n",
    "print(counter)"
   ]
  },
  {
   "cell_type": "code",
   "execution_count": 116,
   "metadata": {},
   "outputs": [
    {
     "name": "stdout",
     "output_type": "stream",
     "text": [
      "5.7634591682655625\n",
      "4\n"
     ]
    }
   ],
   "source": [
    "x = 6\n",
    "diff = 1\n",
    "counter=0\n",
    "while (abs(diff) > 0.0001):\n",
    "    x_n = x - (y(x, a)/y_p(x, a))\n",
    "    diff = x - x_n\n",
    "    x = x_n\n",
    "    counter += 1\n",
    "print(x)\n",
    "print(counter)"
   ]
  },
  {
   "cell_type": "code",
   "execution_count": 117,
   "metadata": {},
   "outputs": [
    {
     "name": "stdout",
     "output_type": "stream",
     "text": [
      "9.100981769777105\n",
      "3\n"
     ]
    }
   ],
   "source": [
    "x = 9\n",
    "diff = 1\n",
    "counter=0\n",
    "while (abs(diff) > 0.0001):\n",
    "    x_n = x - (y(x, a)/y_p(x, a))\n",
    "    diff = x - x_n\n",
    "    x = x_n\n",
    "    counter = counter + 1\n",
    "print(x)\n",
    "print(counter)"
   ]
  },
  {
   "cell_type": "code",
   "execution_count": 119,
   "metadata": {},
   "outputs": [
    {
     "name": "stdout",
     "output_type": "stream",
     "text": [
      "9.100981769748405\n",
      "4\n"
     ]
    }
   ],
   "source": [
    "x = 8\n",
    "diff = 1\n",
    "counter=0\n",
    "while (abs(diff) > 0.0001):\n",
    "    x_n = x - (y(x, a)/y_p(x, a))\n",
    "    diff = x - x_n\n",
    "    x = x_n\n",
    "    counter = counter + 1\n",
    "print(x)\n",
    "print(counter)"
   ]
  },
  {
   "cell_type": "code",
   "execution_count": null,
   "metadata": {},
   "outputs": [],
   "source": []
  }
 ],
 "metadata": {
  "kernelspec": {
   "display_name": "Python 3",
   "language": "python",
   "name": "python3"
  },
  "language_info": {
   "codemirror_mode": {
    "name": "ipython",
    "version": 3
   },
   "file_extension": ".py",
   "mimetype": "text/x-python",
   "name": "python",
   "nbconvert_exporter": "python",
   "pygments_lexer": "ipython3",
   "version": "3.7.6"
  }
 },
 "nbformat": 4,
 "nbformat_minor": 4
}
