{
 "cells": [
  {
   "cell_type": "markdown",
   "metadata": {},
   "source": [
    "# MAE 306 PROBLEM SET 2"
   ]
  },
  {
   "cell_type": "markdown",
   "metadata": {},
   "source": [
    "## Creating the steepest descent algorithm"
   ]
  },
  {
   "cell_type": "code",
   "execution_count": 3,
   "metadata": {},
   "outputs": [],
   "source": [
    "import numpy as np\n",
    "import matplotlib.pyplot as plt"
   ]
  },
  {
   "cell_type": "markdown",
   "metadata": {},
   "source": [
    "#### Initialising and creating all the necessary arrays"
   ]
  },
  {
   "cell_type": "code",
   "execution_count": 61,
   "metadata": {},
   "outputs": [
    {
     "name": "stdout",
     "output_type": "stream",
     "text": [
      "[[ 2 -1]\n",
      " [-1  2]]\n"
     ]
    }
   ],
   "source": [
    "A = np.array([[2, -1], [-1, 2]])\n",
    "print(A)\n",
    "b = np.array([[1], [2]])\n",
    "xi = np.array([[3], [0]])"
   ]
  },
  {
   "cell_type": "markdown",
   "metadata": {},
   "source": [
    "#### Creating the loop"
   ]
  },
  {
   "cell_type": "code",
   "execution_count": 62,
   "metadata": {},
   "outputs": [
    {
     "name": "stdout",
     "output_type": "stream",
     "text": [
      "[[6.]]\n"
     ]
    }
   ],
   "source": [
    "F_current = (1/2)*(np.dot(np.dot(np.transpose(xi), A), xi))-(np.dot(np.transpose(b), xi))\n",
    "print(F_current)"
   ]
  },
  {
   "cell_type": "code",
   "execution_count": 72,
   "metadata": {},
   "outputs": [
    {
     "name": "stdout",
     "output_type": "stream",
     "text": [
      "1\n",
      "[[1.33333333]\n",
      " [1.66728164]]\n"
     ]
    }
   ],
   "source": [
    "diff = 1\n",
    "count = 0\n",
    "while abs(diff) > 0.0001:\n",
    "    r = b - np.dot(A,xi)\n",
    "    a = (np.dot(np.transpose(r),r))/(np.dot(np.dot(np.transpose(r),A),r))\n",
    "    x_i1 = xi + a*r\n",
    "    F = (1/2)*(np.dot(np.dot(np.transpose(x_i1), A), x_i1))-(np.dot(np.transpose(b), x_i1))\n",
    "    diff = F - F_current\n",
    "    xi = x_i1\n",
    "    F_current = F\n",
    "    count += 1\n",
    "print(count)\n",
    "print(xi)"
   ]
  },
  {
   "cell_type": "markdown",
   "metadata": {},
   "source": [
    "Running with different initial x_i values."
   ]
  },
  {
   "cell_type": "code",
   "execution_count": 70,
   "metadata": {},
   "outputs": [
    {
     "name": "stdout",
     "output_type": "stream",
     "text": [
      "2\n",
      "[[1.33333333]\n",
      " [1.66666667]]\n"
     ]
    }
   ],
   "source": [
    "A = np.array([[2, -1], [-1, 2]])\n",
    "b = np.array([[1], [2]])\n",
    "xi = np.array([[0], [3]])\n",
    "F_current = (1/2)*(np.dot(np.dot(np.transpose(xi), A), xi))-(np.dot(np.transpose(b), xi))\n",
    "diff = 1\n",
    "count = 0\n",
    "while abs(diff) > 0.0001:\n",
    "    r = b - np.dot(A,xi)\n",
    "    a = (np.dot(np.transpose(r),r))/(np.dot(np.dot(np.transpose(r),A),r))\n",
    "    x_i1 = xi + a*r\n",
    "    F = (1/2)*(np.dot(np.dot(np.transpose(x_i1), A), x_i1))-(np.dot(np.transpose(b), x_i1))\n",
    "    diff = F - F_current\n",
    "    xi = x_i1\n",
    "    F_current = F\n",
    "    count += 1\n",
    "print(count)\n",
    "print(xi)"
   ]
  },
  {
   "cell_type": "code",
   "execution_count": 71,
   "metadata": {},
   "outputs": [
    {
     "name": "stdout",
     "output_type": "stream",
     "text": [
      "6\n",
      "[[1.33538326]\n",
      " [1.66830661]]\n"
     ]
    }
   ],
   "source": [
    "A = np.array([[2, -1], [-1, 2]])\n",
    "b = np.array([[1], [2]])\n",
    "xi = np.array([[3], [3]])\n",
    "F_current = (1/2)*(np.dot(np.dot(np.transpose(xi), A), xi))-(np.dot(np.transpose(b), xi))\n",
    "diff = 1\n",
    "count = 0\n",
    "while abs(diff) > 0.0001:\n",
    "    r = b - np.dot(A,xi)\n",
    "    a = (np.dot(np.transpose(r),r))/(np.dot(np.dot(np.transpose(r),A),r))\n",
    "    x_i1 = xi + a*r\n",
    "    F = (1/2)*(np.dot(np.dot(np.transpose(x_i1), A), x_i1))-(np.dot(np.transpose(b), x_i1))\n",
    "    diff = F - F_current\n",
    "    xi = x_i1\n",
    "    F_current = F\n",
    "    count += 1\n",
    "print(count)\n",
    "print(xi)"
   ]
  },
  {
   "cell_type": "markdown",
   "metadata": {},
   "source": [
    "Using the first initial vector (3,0) allows for the minimum of the function to be calculated most rapidly. This is likely indicative of the fact that this vector is closest to the minimum."
   ]
  },
  {
   "cell_type": "markdown",
   "metadata": {},
   "source": [
    "## Creating the Newton-Raphson algorithm for multivariate functions"
   ]
  },
  {
   "cell_type": "code",
   "execution_count": 182,
   "metadata": {},
   "outputs": [
    {
     "ename": "KeyboardInterrupt",
     "evalue": "",
     "output_type": "error",
     "traceback": [
      "\u001b[0;31m---------------------------------------------------------------------------\u001b[0m",
      "\u001b[0;31mKeyboardInterrupt\u001b[0m                         Traceback (most recent call last)",
      "\u001b[0;32m<ipython-input-182-52b39b8bd5b0>\u001b[0m in \u001b[0;36m<module>\u001b[0;34m\u001b[0m\n\u001b[1;32m     21\u001b[0m \u001b[0;32mwhile\u001b[0m \u001b[0merf_norm\u001b[0m \u001b[0;34m>\u001b[0m \u001b[0;36m0.0001\u001b[0m\u001b[0;34m:\u001b[0m\u001b[0;34m\u001b[0m\u001b[0;34m\u001b[0m\u001b[0m\n\u001b[1;32m     22\u001b[0m     \u001b[0mJ\u001b[0m \u001b[0;34m=\u001b[0m \u001b[0mnp\u001b[0m\u001b[0;34m.\u001b[0m\u001b[0marray\u001b[0m\u001b[0;34m(\u001b[0m\u001b[0;34m[\u001b[0m\u001b[0;34m[\u001b[0m\u001b[0;36m2\u001b[0m\u001b[0;34m*\u001b[0m\u001b[0mx_i\u001b[0m\u001b[0;34m[\u001b[0m\u001b[0;36m0\u001b[0m\u001b[0;34m]\u001b[0m\u001b[0;34m*\u001b[0m\u001b[0mnp\u001b[0m\u001b[0;34m.\u001b[0m\u001b[0mexp\u001b[0m\u001b[0;34m(\u001b[0m\u001b[0;34m-\u001b[0m\u001b[0mx_i\u001b[0m\u001b[0;34m[\u001b[0m\u001b[0;36m1\u001b[0m\u001b[0;34m]\u001b[0m\u001b[0;34m)\u001b[0m\u001b[0;34m,\u001b[0m \u001b[0;34m-\u001b[0m\u001b[0;34m(\u001b[0m\u001b[0mx_i\u001b[0m\u001b[0;34m[\u001b[0m\u001b[0;36m0\u001b[0m\u001b[0;34m]\u001b[0m\u001b[0;34m**\u001b[0m\u001b[0;36m2\u001b[0m\u001b[0;34m)\u001b[0m\u001b[0;34m*\u001b[0m\u001b[0mnp\u001b[0m\u001b[0;34m.\u001b[0m\u001b[0mexp\u001b[0m\u001b[0;34m(\u001b[0m\u001b[0;34m-\u001b[0m\u001b[0mx_i\u001b[0m\u001b[0;34m[\u001b[0m\u001b[0;36m1\u001b[0m\u001b[0;34m]\u001b[0m\u001b[0;34m)\u001b[0m\u001b[0;34m,\u001b[0m \u001b[0;36m1\u001b[0m\u001b[0;34m]\u001b[0m\u001b[0;34m,\u001b[0m \u001b[0;34m[\u001b[0m\u001b[0;36m1\u001b[0m\u001b[0;34m,\u001b[0m \u001b[0;34m-\u001b[0m\u001b[0;36m2.200022\u001b[0m\u001b[0;34m*\u001b[0m\u001b[0;36m2\u001b[0m\u001b[0;34m*\u001b[0m\u001b[0mx_i\u001b[0m\u001b[0;34m[\u001b[0m\u001b[0;36m1\u001b[0m\u001b[0;34m]\u001b[0m\u001b[0;34m,\u001b[0m \u001b[0;34m-\u001b[0m\u001b[0;36m2.200022\u001b[0m\u001b[0;34m*\u001b[0m\u001b[0;36m2\u001b[0m\u001b[0;34m*\u001b[0m\u001b[0mx_i\u001b[0m\u001b[0;34m[\u001b[0m\u001b[0;36m2\u001b[0m\u001b[0;34m]\u001b[0m\u001b[0;34m]\u001b[0m\u001b[0;34m,\u001b[0m \u001b[0;34m[\u001b[0m\u001b[0;36m1\u001b[0m\u001b[0;34m,\u001b[0m \u001b[0;36m1\u001b[0m\u001b[0;34m,\u001b[0m \u001b[0;34m-\u001b[0m\u001b[0;36m3\u001b[0m\u001b[0;34m*\u001b[0m\u001b[0;34m(\u001b[0m\u001b[0mx_i\u001b[0m\u001b[0;34m[\u001b[0m\u001b[0;36m2\u001b[0m\u001b[0;34m]\u001b[0m\u001b[0;34m**\u001b[0m\u001b[0;36m2\u001b[0m\u001b[0;34m)\u001b[0m\u001b[0;34m]\u001b[0m\u001b[0;34m]\u001b[0m\u001b[0;34m)\u001b[0m\u001b[0;34m\u001b[0m\u001b[0;34m\u001b[0m\u001b[0m\n\u001b[0;32m---> 23\u001b[0;31m     \u001b[0mx_i1\u001b[0m \u001b[0;34m=\u001b[0m \u001b[0mx_i\u001b[0m \u001b[0;34m-\u001b[0m \u001b[0mnp\u001b[0m\u001b[0;34m.\u001b[0m\u001b[0mdot\u001b[0m\u001b[0;34m(\u001b[0m\u001b[0mnp\u001b[0m\u001b[0;34m.\u001b[0m\u001b[0mlinalg\u001b[0m\u001b[0;34m.\u001b[0m\u001b[0minv\u001b[0m\u001b[0;34m(\u001b[0m\u001b[0mJ\u001b[0m\u001b[0;34m)\u001b[0m\u001b[0;34m,\u001b[0m\u001b[0mF\u001b[0m\u001b[0;34m)\u001b[0m\u001b[0;34m\u001b[0m\u001b[0;34m\u001b[0m\u001b[0m\n\u001b[0m\u001b[1;32m     24\u001b[0m     \u001b[0merf\u001b[0m \u001b[0;34m=\u001b[0m \u001b[0mx_i1\u001b[0m \u001b[0;34m-\u001b[0m \u001b[0mx_i\u001b[0m\u001b[0;34m\u001b[0m\u001b[0;34m\u001b[0m\u001b[0m\n\u001b[1;32m     25\u001b[0m     \u001b[0merf_norm\u001b[0m \u001b[0;34m=\u001b[0m \u001b[0mnp\u001b[0m\u001b[0;34m.\u001b[0m\u001b[0mlinalg\u001b[0m\u001b[0;34m.\u001b[0m\u001b[0mnorm\u001b[0m\u001b[0;34m(\u001b[0m\u001b[0merf\u001b[0m\u001b[0;34m)\u001b[0m\u001b[0;34m\u001b[0m\u001b[0;34m\u001b[0m\u001b[0m\n",
      "\u001b[0;32m<__array_function__ internals>\u001b[0m in \u001b[0;36minv\u001b[0;34m(*args, **kwargs)\u001b[0m\n",
      "\u001b[0;32m/opt/anaconda3/lib/python3.7/site-packages/numpy/linalg/linalg.py\u001b[0m in \u001b[0;36minv\u001b[0;34m(a)\u001b[0m\n\u001b[1;32m    545\u001b[0m     \u001b[0msignature\u001b[0m \u001b[0;34m=\u001b[0m \u001b[0;34m'D->D'\u001b[0m \u001b[0;32mif\u001b[0m \u001b[0misComplexType\u001b[0m\u001b[0;34m(\u001b[0m\u001b[0mt\u001b[0m\u001b[0;34m)\u001b[0m \u001b[0;32melse\u001b[0m \u001b[0;34m'd->d'\u001b[0m\u001b[0;34m\u001b[0m\u001b[0;34m\u001b[0m\u001b[0m\n\u001b[1;32m    546\u001b[0m     \u001b[0mextobj\u001b[0m \u001b[0;34m=\u001b[0m \u001b[0mget_linalg_error_extobj\u001b[0m\u001b[0;34m(\u001b[0m\u001b[0m_raise_linalgerror_singular\u001b[0m\u001b[0;34m)\u001b[0m\u001b[0;34m\u001b[0m\u001b[0;34m\u001b[0m\u001b[0m\n\u001b[0;32m--> 547\u001b[0;31m     \u001b[0mainv\u001b[0m \u001b[0;34m=\u001b[0m \u001b[0m_umath_linalg\u001b[0m\u001b[0;34m.\u001b[0m\u001b[0minv\u001b[0m\u001b[0;34m(\u001b[0m\u001b[0ma\u001b[0m\u001b[0;34m,\u001b[0m \u001b[0msignature\u001b[0m\u001b[0;34m=\u001b[0m\u001b[0msignature\u001b[0m\u001b[0;34m,\u001b[0m \u001b[0mextobj\u001b[0m\u001b[0;34m=\u001b[0m\u001b[0mextobj\u001b[0m\u001b[0;34m)\u001b[0m\u001b[0;34m\u001b[0m\u001b[0;34m\u001b[0m\u001b[0m\n\u001b[0m\u001b[1;32m    548\u001b[0m     \u001b[0;32mreturn\u001b[0m \u001b[0mwrap\u001b[0m\u001b[0;34m(\u001b[0m\u001b[0mainv\u001b[0m\u001b[0;34m.\u001b[0m\u001b[0mastype\u001b[0m\u001b[0;34m(\u001b[0m\u001b[0mresult_t\u001b[0m\u001b[0;34m,\u001b[0m \u001b[0mcopy\u001b[0m\u001b[0;34m=\u001b[0m\u001b[0;32mFalse\u001b[0m\u001b[0;34m)\u001b[0m\u001b[0;34m)\u001b[0m\u001b[0;34m\u001b[0m\u001b[0;34m\u001b[0m\u001b[0m\n\u001b[1;32m    549\u001b[0m \u001b[0;34m\u001b[0m\u001b[0m\n",
      "\u001b[0;31mKeyboardInterrupt\u001b[0m: "
     ]
    }
   ],
   "source": [
    "# input initial x array\n",
    "x_i = np.array([0,0,0])\n",
    "\n",
    "# define the functions\n",
    "f1 = ((x_i[0] ** 2)*np.exp(-x_i[1]))+x_i[2]-0.395028\n",
    "f2 = x_i[0]-2.2002*((x_i[1] ** 2)+(x_i[2] ** 2))\n",
    "f3 = x_i[0]+x_i[1]-(x_i[2] ** 3)-0.710317\n",
    "\n",
    "F = np.array([f1, f2, f3])\n",
    "\n",
    "\"\"\"\n",
    "# determine Jacobian\n",
    "J = np.array([[2*x_i[0]*np.exp(-x_i[1]), -(x_i[0]**2)*np.exp(-x_i[1]), 1], [1, -2.200022*2*x_i[1], -2.200022*2*x_i[2]], [1, 1, -3*(x_i[2]**2)]])\n",
    "print(J)\n",
    "\"\"\"\n",
    "\n",
    "# give some initial error array\n",
    "erf = np.array([1,1,1])\n",
    "erf_norm = np.linalg.norm(erf)\n",
    "\n",
    "while erf_norm > 0.0001:\n",
    "    J = np.array([[2*x_i[0]*np.exp(-x_i[1]), -(x_i[0]**2)*np.exp(-x_i[1]), 1], [1, -2.200022*2*x_i[1], -2.200022*2*x_i[2]], [1, 1, -3*(x_i[2]**2)]])\n",
    "    x_i1 = x_i - np.dot(np.linalg.inv(J),F)\n",
    "    erf = x_i1 - x_i\n",
    "    erf_norm = np.linalg.norm(erf)\n",
    "    x_i = x_i1\n",
    "print(x_i)\n"
   ]
  },
  {
   "cell_type": "markdown",
   "metadata": {},
   "source": [
    "Since the above code is not working, I assume there is some "
   ]
  },
  {
   "cell_type": "code",
   "execution_count": 94,
   "metadata": {},
   "outputs": [
    {
     "ename": "ValueError",
     "evalue": "The truth value of an array with more than one element is ambiguous. Use a.any() or a.all()",
     "output_type": "error",
     "traceback": [
      "\u001b[0;31m---------------------------------------------------------------------------\u001b[0m",
      "\u001b[0;31mValueError\u001b[0m                                Traceback (most recent call last)",
      "\u001b[0;32m<ipython-input-94-650a3f1d0046>\u001b[0m in \u001b[0;36m<module>\u001b[0;34m\u001b[0m\n\u001b[1;32m     21\u001b[0m     \u001b[0mx_i\u001b[0m \u001b[0;34m=\u001b[0m \u001b[0mx_i1\u001b[0m\u001b[0;34m\u001b[0m\u001b[0;34m\u001b[0m\u001b[0m\n\u001b[1;32m     22\u001b[0m     \u001b[0;32mfor\u001b[0m \u001b[0mi\u001b[0m \u001b[0;32min\u001b[0m \u001b[0mrange\u001b[0m\u001b[0;34m(\u001b[0m\u001b[0;36m0\u001b[0m\u001b[0;34m,\u001b[0m\u001b[0mlen\u001b[0m\u001b[0;34m(\u001b[0m\u001b[0merf\u001b[0m\u001b[0;34m)\u001b[0m\u001b[0;34m)\u001b[0m\u001b[0;34m:\u001b[0m\u001b[0;34m\u001b[0m\u001b[0;34m\u001b[0m\u001b[0m\n\u001b[0;32m---> 23\u001b[0;31m         \u001b[0;32mif\u001b[0m \u001b[0merf\u001b[0m\u001b[0;34m[\u001b[0m\u001b[0mi\u001b[0m\u001b[0;34m]\u001b[0m\u001b[0;34m<\u001b[0m\u001b[0;36m0.0001\u001b[0m\u001b[0;34m:\u001b[0m \u001b[0;32mbreak\u001b[0m\u001b[0;34m\u001b[0m\u001b[0;34m\u001b[0m\u001b[0m\n\u001b[0m\u001b[1;32m     24\u001b[0m     \u001b[0mprint\u001b[0m\u001b[0;34m(\u001b[0m\u001b[0mx_i\u001b[0m\u001b[0;34m)\u001b[0m\u001b[0;34m\u001b[0m\u001b[0;34m\u001b[0m\u001b[0m\n",
      "\u001b[0;31mValueError\u001b[0m: The truth value of an array with more than one element is ambiguous. Use a.any() or a.all()"
     ]
    }
   ],
   "source": [
    "# input initial x array\n",
    "x_i = np.array([0,0,0])\n",
    "\n",
    "# define the functions\n",
    "f1 = ((x_i[0] ** 2)*np.exp(-x_i[1]))+x_i[2]-0.395028\n",
    "f2 = x_i[0]-2.2002*((x_i[1] ** 2)+(x_i[2] ** 2))\n",
    "f3 = x_i[0]+x_i[1]-(x_i[2] ** 2)-0.710317\n",
    "\n",
    "# define an array for the functions? not sure if necessary\n",
    "F = np.array([f1, f2, f3])\n",
    "\n",
    "# determine Jacobian\n",
    "J = np.array([[2*x_i[0]*np.exp(-x_i[1]), -(x_i[0]**2)*np.exp(-x_i[1]), 1], [1, -2.200022*2*x_i[1], -2.200022*2*x_i[2]], [1, 1, -3*(x_i[2]**3)]])\n",
    "\n",
    "# give some initial error array\n",
    "erf = np.array([1,1,1])\n",
    "\n"
   ]
  },
  {
   "cell_type": "code",
   "execution_count": 139,
   "metadata": {},
   "outputs": [
    {
     "name": "stdout",
     "output_type": "stream",
     "text": [
      "[nan nan nan]\n"
     ]
    },
    {
     "name": "stderr",
     "output_type": "stream",
     "text": [
      "/opt/anaconda3/lib/python3.7/site-packages/ipykernel_launcher.py:6: RuntimeWarning: invalid value encountered in long_scalars\n",
      "  \n"
     ]
    }
   ],
   "source": [
    "# input initial x array\n",
    "x_i = np.array([0,0,0])\n",
    "\n",
    "# define the functions\n",
    "f1 = ((x_i[0] ** 2)*np.exp(-x_i[1]))+x_i[2]-0.395028\n",
    "f2 = (x_i[0]/((x_i[1] ** 2)+(x_i[2] ** 2)))-2.20022\n",
    "f3 = x_i[0]+x_i[1]-(x_i[2] ** 3)-0.710317\n",
    "\n",
    "F = np.array([f1, f2, f3])\n",
    "\n",
    "# determine Jacobian\n",
    "J = np.array([[2*x_i[0]*np.exp(-x_i[1]), -(x_i[0]**2)*np.exp(-x_i[1]), 1], [1, -2.200022*2*x_i[1], -2.200022*2*x_i[2]], [1, 1, -3*(x_i[2]**2)]])\n",
    "\n",
    "# give some initial error array\n",
    "erf = np.array([1,1,1])\n",
    "erf_norm = np.linalg.norm(erf)\n",
    "\n",
    "while erf_norm > 0.0001:\n",
    "    x_i1 = xi - np.dot(np.linalg.inv(J),F)\n",
    "    erf = x_i1 - x_i\n",
    "    erf_norm = np.linalg.norm(erf)\n",
    "    x_i = x_i1\n",
    "print(x_i)"
   ]
  },
  {
   "cell_type": "code",
   "execution_count": 170,
   "metadata": {},
   "outputs": [
    {
     "name": "stdout",
     "output_type": "stream",
     "text": [
      "[0.       0.710317 0.395028]\n",
      "[0.       0.710317 0.395028]\n"
     ]
    }
   ],
   "source": [
    "# input initial x array\n",
    "x_i = np.array([0,0,0])\n",
    "\n",
    "# define the functions\n",
    "f1 = ((x_i[0] ** 2)*np.exp(-x_i[1]))+x_i[2]-0.395028\n",
    "f2 = x_i[0]-2.2*((x_i[1] ** 2)+(x_i[2] ** 2))\n",
    "f3 = x_i[0]+x_i[1]-(x_i[2] ** 3)-0.710317\n",
    "\n",
    "F = np.array([f1, f2, f3])\n",
    "\n",
    "# give some initial error array\n",
    "erf = np.array([1,1,1])\n",
    "\n",
    "\n",
    "for i in x_i:\n",
    "   while abs(erf[i])>0.0001:\n",
    "        J = np.array([[2*x_i[0]*np.exp(-x_i[1]), -(x_i[0]**2)*np.exp(-x_i[1]), 1], [1, -2.200022*2*x_i[1], -2.200022*2*x_i[2]], [1, 1, -3*(x_i[2]**2)]])\n",
    "        x_i1 = x_i - np.dot(np.linalg.inv(J),F)\n",
    "        erf = x_i1 - x_i\n",
    "        x_i = x_i1\n",
    "print(x_i)\n",
    "\n"
   ]
  },
  {
   "cell_type": "code",
   "execution_count": null,
   "metadata": {},
   "outputs": [],
   "source": [
    "# input initial x array\n",
    "x_i = np.array([0,0,0])\n",
    "\n",
    "# define the functions\n",
    "f1 = ((x_i[0] ** 2)*np.exp(-x_i[1]))+x_i[2]-0.395028\n",
    "f2 = x_i[0]/((x_i[1] ** 2)+(x_i[2] ** 2))-2.20002\n",
    "f3 = x_i[0]+x_i[1]-(x_i[2] ** 3)-0.710317\n",
    "\n",
    "F = np.array([f1, f2, f3])\n",
    "\n",
    "# give some initial error array\n",
    "erf = np.array([1,1,1])\n",
    "erf_norm = np.linalg.norm(erf)\n",
    "\n",
    "for i in x_i:\n",
    "   while abs(erf[i])>0.0001:\n",
    "    J = np.array([[2*x_i[0]*np.exp(-x_i[1]), -(x_i[0]**2)*np.exp(-x_i[1]), 1], [1, -2.200022*2*x_i[1], -2.200022*2*x_i[2]], [1, 1, -3*(x_i[2]**2)]])\n",
    "    x_i1 = xi - np.dot(np.linalg.inv(J),F)\n",
    "    erf = x_i1 - x_i\n",
    "    x_i = x_i1\n",
    "print(x_i)"
   ]
  },
  {
   "cell_type": "code",
   "execution_count": 181,
   "metadata": {},
   "outputs": [
    {
     "name": "stdout",
     "output_type": "stream",
     "text": [
      "[0.       0.710317 0.395028]\n",
      "[0.       0.710317 0.395028]\n"
     ]
    }
   ],
   "source": [
    "# input initial x array\n",
    "x_i = np.array([0,0,0])\n",
    "\n",
    "# define the functions\n",
    "f1 = ((x_i[0] ** 2)*np.exp(-x_i[1]))+x_i[2]-0.395028\n",
    "f2 = x_i[0]-2.2*((x_i[1] ** 2)+(x_i[2] ** 2))\n",
    "f3 = x_i[0]+x_i[1]-(x_i[2] ** 3)-0.710317\n",
    "\n",
    "F = np.array([f1, f2, f3])\n",
    "\n",
    "# give some initial error array\n",
    "erf = np.array([1,1,1])\n",
    "\n",
    "while (abs(erf[0])>0.0001) & (abs(erf[1])>0.0001) & (abs(erf[2])>0.0001):\n",
    "    f1 = ((x_i[0] ** 2)*np.exp(-x_i[1]))+x_i[2]-0.395028\n",
    "    f2 = x_i[0]-2.2*((x_i[1] ** 2)+(x_i[2] ** 2))\n",
    "    f3 = x_i[0]+x_i[1]-(x_i[2] ** 3)-0.710317\n",
    "    J = np.array([[2*x_i[0]*np.exp(-x_i[1]), -(x_i[0]**2)*np.exp(-x_i[1]), 1], [1, -2.200022*2*x_i[1], -2.200022*2*x_i[2]], [1, 1, -3*(x_i[2]**2)]])\n",
    "    x_i1 = x_i - np.dot(np.linalg.inv(J),F)\n",
    "    erf = x_i1 - x_i\n",
    "    print(erf)\n",
    "    x_i = x_i1\n",
    "print(x_i)\n",
    "\n"
   ]
  },
  {
   "cell_type": "code",
   "execution_count": 4,
   "metadata": {},
   "outputs": [],
   "source": [
    "def F(x_i):\n",
    "    f1 = ((x_i[0] ** 2)*np.exp(-x_i[1]))+x_i[2]-0.385028\n",
    "    f2 = x_i[0]-2.2002*((x_i[1] ** 2)+(x_i[2] ** 2))\n",
    "    f3 = x_i[0]+x_i[1]-(x_i[2] ** 3)-0.710317\n",
    "    return np.array([f1, f2, f3])"
   ]
  },
  {
   "cell_type": "code",
   "execution_count": 5,
   "metadata": {},
   "outputs": [
    {
     "name": "stdout",
     "output_type": "stream",
     "text": [
      "[0.39999905 0.33000114 0.27000088]\n",
      "6\n"
     ]
    }
   ],
   "source": [
    "# input initial x array\n",
    "x_i = np.array([0,0,0])\n",
    "\n",
    "# define the functions\n",
    "F_start = F(x_i)\n",
    "\n",
    "# give some initial error array\n",
    "erf = np.array([1,1,1])\n",
    "erf_norm = np.linalg.norm(erf)\n",
    "count = 0\n",
    "\n",
    "while abs(erf_norm) > 0.0001:\n",
    "    J = np.array([[2*x_i[0]*np.exp(-x_i[1]), -(x_i[0]**2)*np.exp(-x_i[1]), 1], [1, -2.200022*2*x_i[1], -2.200022*2*x_i[2]], [1, 1, -3*(x_i[2]**2)]])\n",
    "    x_i1 = x_i - np.dot(np.linalg.inv(J),F(x_i))\n",
    "    F_new = F(x_i1)\n",
    "    erf = F_start - F_new\n",
    "    erf_norm = np.linalg.norm(erf)\n",
    "    F_start = F_new\n",
    "    x_i = x_i1\n",
    "    count += 1\n",
    "print(x_i)\n",
    "print(count)"
   ]
  },
  {
   "cell_type": "code",
   "execution_count": 200,
   "metadata": {},
   "outputs": [
    {
     "name": "stdout",
     "output_type": "stream",
     "text": [
      "[0.40443535 0.32715873 0.27710053]\n",
      "6\n"
     ]
    }
   ],
   "source": [
    "# input initial x array\n",
    "x_i = np.array([1,1,1])\n",
    "\n",
    "# define the functions\n",
    "F_start = F(x_i)\n",
    "\n",
    "# give some initial error array\n",
    "erf = np.array([1,1,1])\n",
    "erf_norm = np.linalg.norm(erf)\n",
    "count = 0\n",
    "\n",
    "while abs(erf_norm) > 0.0001:\n",
    "    J = np.array([[2*x_i[0]*np.exp(-x_i[1]), -(x_i[0]**2)*np.exp(-x_i[1]), 1], [1, -2.200022*2*x_i[1], -2.200022*2*x_i[2]], [1, 1, -3*(x_i[2]**2)]])\n",
    "    x_i1 = x_i - np.dot(np.linalg.inv(J),F(x_i))\n",
    "    F_new = F(x_i1)\n",
    "    erf = F_start - F_new\n",
    "    erf_norm = np.linalg.norm(erf)\n",
    "    F_start = F_new\n",
    "    x_i = x_i1\n",
    "    count += 1\n",
    "print(x_i)\n",
    "print(count)"
   ]
  },
  {
   "cell_type": "code",
   "execution_count": 203,
   "metadata": {},
   "outputs": [
    {
     "name": "stdout",
     "output_type": "stream",
     "text": [
      "[0.40443535 0.32715873 0.27710053]\n",
      "4\n"
     ]
    }
   ],
   "source": [
    "# input initial x array\n",
    "x_i = np.array([0.5,0.5,0.5])\n",
    "\n",
    "# define the functions\n",
    "F_start = F(x_i)\n",
    "\n",
    "# give some initial error array\n",
    "erf = np.array([1,1,1])\n",
    "erf_norm = np.linalg.norm(erf)\n",
    "count = 0\n",
    "\n",
    "while abs(erf_norm) > 0.0001:\n",
    "    J = np.array([[2*x_i[0]*np.exp(-x_i[1]), -(x_i[0]**2)*np.exp(-x_i[1]), 1], [1, -2.200022*2*x_i[1], -2.200022*2*x_i[2]], [1, 1, -3*(x_i[2]**2)]])\n",
    "    x_i1 = x_i - np.dot(np.linalg.inv(J),F(x_i))\n",
    "    F_new = F(x_i1)\n",
    "    erf = F_start - F_new\n",
    "    erf_norm = np.linalg.norm(erf)\n",
    "    F_start = F_new\n",
    "    x_i = x_i1\n",
    "    count += 1\n",
    "print(x_i)\n",
    "print(count)"
   ]
  },
  {
   "cell_type": "code",
   "execution_count": null,
   "metadata": {},
   "outputs": [],
   "source": []
  }
 ],
 "metadata": {
  "kernelspec": {
   "display_name": "Python 3",
   "language": "python",
   "name": "python3"
  },
  "language_info": {
   "codemirror_mode": {
    "name": "ipython",
    "version": 3
   },
   "file_extension": ".py",
   "mimetype": "text/x-python",
   "name": "python",
   "nbconvert_exporter": "python",
   "pygments_lexer": "ipython3",
   "version": "3.7.6"
  }
 },
 "nbformat": 4,
 "nbformat_minor": 4
}
